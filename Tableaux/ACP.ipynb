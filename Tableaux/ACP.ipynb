{
 "cells": [
  {
   "cell_type": "code",
   "execution_count": 50,
   "metadata": {},
   "outputs": [],
   "source": [
    "# importation de packages \n",
    "import numpy as np \n",
    "from sklearn.datasets import make_regression\n",
    "from scipy.linalg import eig"
   ]
  },
  {
   "cell_type": "code",
   "execution_count": 10,
   "metadata": {},
   "outputs": [
    {
     "data": {
      "text/plain": [
       "array([[ 0.38636037,  0.74194179,  1.98773966, ...,  0.68953539,\n",
       "        -1.17377166, -1.53973157],\n",
       "       [-0.30512997,  2.19884755,  1.47057182, ..., -0.81588756,\n",
       "        -0.40676133, -0.77689975],\n",
       "       [-0.30472627, -1.31429745,  0.00505987, ...,  0.65324524,\n",
       "         0.00660817, -0.28916871],\n",
       "       ...,\n",
       "       [-0.19710344, -1.15718281, -0.35603315, ..., -0.57286094,\n",
       "         1.72772354, -0.99218307],\n",
       "       [ 0.67755161, -2.0317986 , -0.78920463, ...,  1.43606552,\n",
       "        -0.46050141,  0.09688523],\n",
       "       [-0.1608562 ,  0.55938021,  0.98531119, ...,  1.77984064,\n",
       "        -0.76234097,  1.4066966 ]])"
      ]
     },
     "execution_count": 10,
     "metadata": {},
     "output_type": "execute_result"
    }
   ],
   "source": [
    "# chargement du jeud de donnée \n",
    "data = make_regression(n_samples=1000, n_features=100)[0]"
   ]
  },
  {
   "cell_type": "code",
   "execution_count": 85,
   "metadata": {},
   "outputs": [],
   "source": [
    "class ACP: \n",
    "    def __init__(self, n_comp= 2):\n",
    "        \"\"\"\n",
    "\n",
    "        Args:\n",
    "            n_comp (entier,  optional): donne le nombre de composante principale a choisir \n",
    "        \"\"\"\n",
    "        self.n_comp = n_comp \n",
    "\n",
    "    def fit(self, X): \n",
    "      \n",
    "\n",
    "        # standariser les donnees \n",
    "        mean = X.mean(axis=0)\n",
    "        std = X.std(axis=0)\n",
    "        self.X = (X-mean) / std \n",
    "\n",
    "        # calculer la matrice de variance covariance \n",
    "        S = np.cov(self.X.T)\n",
    "\n",
    "        # recuperer les valeurs propres et les vecteurs propre de la matrice de variance covariance \n",
    "        eigen_values, eigen_vectors = eig(S)\n",
    "\n",
    "        # trier les valeurs propres \n",
    "        index = np.argsort(eigen_values)[::-1]\n",
    "        self.A = eigen_vectors[index]\n",
    "\n",
    "\n",
    "    def transform(self): \n",
    "        all_componement = np.dot(self.X ,self.A)\n",
    "        return all_componement[:,:self.n_comp]\n"
   ]
  },
  {
   "cell_type": "code",
   "execution_count": 86,
   "metadata": {},
   "outputs": [
    {
     "data": {
      "text/plain": [
       "array([[ 0.89624478,  0.18780916, -0.52186189],\n",
       "       [ 1.66532275, -1.66223695,  0.32678789],\n",
       "       [ 0.49578913,  1.84708972, -1.10518178],\n",
       "       ...,\n",
       "       [ 0.53293002, -0.09491295, -1.06370506],\n",
       "       [-0.48845187,  0.01943876, -0.41332442],\n",
       "       [-1.54545037, -1.22863005,  0.33682096]])"
      ]
     },
     "execution_count": 86,
     "metadata": {},
     "output_type": "execute_result"
    }
   ],
   "source": [
    "model = ACP(n_comp=3 )\n",
    "model.fit(data)\n",
    "model.transform( )"
   ]
  },
  {
   "cell_type": "code",
   "execution_count": 59,
   "metadata": {},
   "outputs": [
    {
     "data": {
      "text/plain": [
       "array([[9, 7, 3],\n",
       "       [4, 8, 3],\n",
       "       [6, 8, 4],\n",
       "       [7, 1, 4],\n",
       "       [5, 8, 1]])"
      ]
     },
     "execution_count": 59,
     "metadata": {},
     "output_type": "execute_result"
    }
   ],
   "source": [
    "A  = np.random.randint(1, 10, size=(5,3))\n",
    "A "
   ]
  },
  {
   "cell_type": "code",
   "execution_count": 51,
   "metadata": {},
   "outputs": [],
   "source": [
    "S = np.cov(A.T)"
   ]
  },
  {
   "cell_type": "code",
   "execution_count": 55,
   "metadata": {},
   "outputs": [],
   "source": [
    "eigen_values, eigen_vectors = eig(S)"
   ]
  },
  {
   "cell_type": "code",
   "execution_count": 57,
   "metadata": {},
   "outputs": [
    {
     "name": "stderr",
     "output_type": "stream",
     "text": [
      "/var/folders/sq/462l7_3n27v2bh21r8_xxnkh0000gn/T/ipykernel_43065/2696126328.py:1: DeprecationWarning: `np.float` is a deprecated alias for the builtin `float`. To silence this warning, use `float` by itself. Doing this will not modify any behavior and is safe. If you specifically wanted the numpy scalar type, use `np.float64` here.\n",
      "Deprecated in NumPy 1.20; for more details and guidance: https://numpy.org/devdocs/release/1.20.0-notes.html#deprecations\n",
      "  eigen_values.astype(np.float)\n",
      "/var/folders/sq/462l7_3n27v2bh21r8_xxnkh0000gn/T/ipykernel_43065/2696126328.py:1: ComplexWarning: Casting complex values to real discards the imaginary part\n",
      "  eigen_values.astype(np.float)\n"
     ]
    },
    {
     "data": {
      "text/plain": [
       "array([11.41181463,  3.781433  ,  1.20675237])"
      ]
     },
     "execution_count": 57,
     "metadata": {},
     "output_type": "execute_result"
    }
   ],
   "source": [
    "eigen_values.astype(np.float)"
   ]
  },
  {
   "cell_type": "code",
   "execution_count": 66,
   "metadata": {},
   "outputs": [],
   "source": [
    "index = np.argsort(eigen_values)[::-1]\n",
    "\n"
   ]
  },
  {
   "cell_type": "code",
   "execution_count": 67,
   "metadata": {},
   "outputs": [
    {
     "data": {
      "text/plain": [
       "array([11.41181463+0.j,  3.781433  +0.j,  1.20675237+0.j])"
      ]
     },
     "execution_count": 67,
     "metadata": {},
     "output_type": "execute_result"
    }
   ],
   "source": [
    "eigen_values[index]"
   ]
  },
  {
   "cell_type": "code",
   "execution_count": 68,
   "metadata": {},
   "outputs": [
    {
     "data": {
      "text/plain": [
       "array([[-0.65896857, -0.67174598, -0.33840473],\n",
       "       [-0.72640036,  0.68510364,  0.05454825],\n",
       "       [-0.19519975, -0.2817629 ,  0.93941829]])"
      ]
     },
     "execution_count": 68,
     "metadata": {},
     "output_type": "execute_result"
    }
   ],
   "source": [
    "eigen_vectors[index]"
   ]
  },
  {
   "cell_type": "code",
   "execution_count": 69,
   "metadata": {},
   "outputs": [
    {
     "data": {
      "text/plain": [
       "(array([11.41181463+0.j,  3.781433  +0.j,  1.20675237+0.j]),\n",
       " array([[-0.65896857, -0.67174598, -0.33840473],\n",
       "        [-0.72640036,  0.68510364,  0.05454825],\n",
       "        [-0.19519975, -0.2817629 ,  0.93941829]]))"
      ]
     },
     "execution_count": 69,
     "metadata": {},
     "output_type": "execute_result"
    }
   ],
   "source": [
    "eigen_values, eigen_vectors"
   ]
  },
  {
   "cell_type": "code",
   "execution_count": null,
   "metadata": {},
   "outputs": [],
   "source": []
  },
  {
   "cell_type": "code",
   "execution_count": null,
   "metadata": {},
   "outputs": [],
   "source": []
  }
 ],
 "metadata": {
  "interpreter": {
   "hash": "ae728774eee256562aff2651c76309c3916f29437b55f618701e1f4834ebef1b"
  },
  "kernelspec": {
   "display_name": "Python 3.9.7 ('env_tensorflow')",
   "language": "python",
   "name": "python3"
  },
  "language_info": {
   "codemirror_mode": {
    "name": "ipython",
    "version": 3
   },
   "file_extension": ".py",
   "mimetype": "text/x-python",
   "name": "python",
   "nbconvert_exporter": "python",
   "pygments_lexer": "ipython3",
   "version": "3.9.7"
  },
  "orig_nbformat": 4
 },
 "nbformat": 4,
 "nbformat_minor": 2
}
